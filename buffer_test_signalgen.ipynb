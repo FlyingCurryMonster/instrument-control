{
 "cells": [
  {
   "cell_type": "code",
   "execution_count": null,
   "metadata": {},
   "outputs": [],
   "source": [
    "import numpy as np\n",
    "import matplotlib.pyplot as plt\n",
    "from importlib import reload\n",
    "import time\n",
    "import seaborn as sns\n",
    "\n",
    "import pymeasure.instruments.srs as srs\n",
    "\n",
    "reload(srs)\n",
    "# lockin = srs.SR830('GPIB2::9::INSTR')\n",
    "lockin = srs.SR830('GPIB0::12::INSTR')\n",
    "print(lockin.id)\n",
    "\n",
    "lockin.time_constant = 1\n",
    "lockin.filter_slope = 24\n",
    "print(f'time constant is {lockin.time_constant}')\n",
    "print(f'filter rolloff slope is {lockin.filter_slope}')\n",
    "# print(lockin.x, lockin.y)\n",
    "\n",
    "\n",
    "# set the sample frequency to be 10 time constants (or roughly that, if you use filter slope of 24db/oct)\n",
    "samp_freq = 0.125\n",
    "buffer_size = 30\n",
    "\n",
    "lockin.sample_frequency = samp_freq\n",
    "\n",
    "print(f'lockin buffer sampling frequency is {lockin.sample_frequency}')\n",
    "print(f'The number of samples to be collected is {buffer_size}')"
   ]
  }
 ],
 "metadata": {
  "language_info": {
   "name": "python"
  }
 },
 "nbformat": 4,
 "nbformat_minor": 2
}
