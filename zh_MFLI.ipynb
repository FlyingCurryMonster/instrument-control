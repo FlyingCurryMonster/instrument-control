{
 "cells": [
  {
   "cell_type": "code",
   "execution_count": 27,
   "metadata": {},
   "outputs": [],
   "source": [
    "import numpy as np\n",
    "import time\n",
    "import zhinst.core\n",
    "%matplotlib widget\n",
    "import matplotlib.pyplot as plt"
   ]
  },
  {
   "cell_type": "code",
   "execution_count": 30,
   "metadata": {},
   "outputs": [],
   "source": [
    "device_id = \"dev4934\" # Device serial number available on its rear panel.\n",
    "interface = \"1GbE\" # For Ethernet connection or when MFLI/MFIA is connected to a remote Data Server.\n",
    "# interface = \"USB\" # For all instruments connected to the host computer via USB except MFLI/MFIA.\n",
    "#interface = \"PCIe\" # For MFLI/MFIA devices in case the Data Server runs on the device.\n",
    "\n",
    "# server_host = \"localhost\"\n",
    "server_host = '127.0.0.1'\n",
    "# server_host = \"192.168.77.26\"\n",
    "server_port = 8004\n",
    "\n",
    "#server_port = 8005 # Default port for HF2LI.\n",
    "api_level = 6 # Maximum API level supported for all instruments except HF2LI.\n",
    "#api_level = 1 # Maximum API level supported for HF2LI.\n",
    "\n",
    "# Create an API session to the Data Server.\n",
    "daq = zhinst.core.ziDAQServer(server_host, server_port, api_level)\n",
    "# Establish a connection between Data Server and Device.\n",
    "daq.connectDevice(device_id, interface)"
   ]
  },
  {
   "cell_type": "code",
   "execution_count": 18,
   "metadata": {},
   "outputs": [],
   "source": [
    "demod_path = f\"/{device_id}/demods/0/\"\n",
    "sample_path = demod_path+'sample'\n",
    "\n"
   ]
  },
  {
   "cell_type": "code",
   "execution_count": 22,
   "metadata": {},
   "outputs": [
    {
     "data": {
      "text/plain": [
       "['/dev4934/demods/0/adcselect',\n",
       " '/dev4934/demods/0/order',\n",
       " '/dev4934/demods/0/rate',\n",
       " '/dev4934/demods/0/oscselect',\n",
       " '/dev4934/demods/0/harmonic',\n",
       " '/dev4934/demods/0/phaseshift',\n",
       " '/dev4934/demods/0/sinc',\n",
       " '/dev4934/demods/0/bypass',\n",
       " '/dev4934/demods/0/timeconstant',\n",
       " '/dev4934/demods/0/enable',\n",
       " '/dev4934/demods/0/freq',\n",
       " '/dev4934/demods/0/trigger',\n",
       " '/dev4934/demods/0/phaseadjust',\n",
       " '/dev4934/demods/0/sample']"
      ]
     },
     "metadata": {},
     "output_type": "display_data"
    },
    {
     "data": {
      "text/plain": [
       "{'timestamp': array([151883957579321], dtype=uint64),\n",
       " 'x': array([0.00021242]),\n",
       " 'y': array([5.95050383e-08]),\n",
       " 'frequency': array([32764.45769778]),\n",
       " 'phase': array([5.24746065]),\n",
       " 'dio': array([0], dtype=uint32),\n",
       " 'trigger': array([0], dtype=uint32),\n",
       " 'auxin0': array([0.00065891]),\n",
       " 'auxin1': array([0.00131363])}"
      ]
     },
     "metadata": {},
     "output_type": "display_data"
    }
   ],
   "source": [
    "display(daq.listNodes(demod_path))\n",
    "display(daq.getSample(sample_path))"
   ]
  },
  {
   "cell_type": "code",
   "execution_count": 26,
   "metadata": {},
   "outputs": [
    {
     "data": {
      "text/plain": [
       "{'timestamp': array([151891841590841], dtype=uint64),\n",
       " 'x': array([0.0002123]),\n",
       " 'y': array([1.71406758e-08]),\n",
       " 'frequency': array([32764.45727913]),\n",
       " 'phase': array([4.86770454]),\n",
       " 'dio': array([0], dtype=uint32),\n",
       " 'trigger': array([0], dtype=uint32),\n",
       " 'auxin0': array([0.00032945]),\n",
       " 'auxin1': array([0.00032841])}"
      ]
     },
     "execution_count": 26,
     "metadata": {},
     "output_type": "execute_result"
    }
   ],
   "source": [
    "daq.getSample('/dev4934/demods/0/sample')"
   ]
  },
  {
   "cell_type": "code",
   "execution_count": 10,
   "metadata": {},
   "outputs": [
    {
     "data": {
      "text/plain": [
       "1686442105.709261"
      ]
     },
     "execution_count": 10,
     "metadata": {},
     "output_type": "execute_result"
    }
   ],
   "source": [
    "import datetime as dt\n",
    "dt.datetime.utcnow().timestamp()"
   ]
  },
  {
   "attachments": {},
   "cell_type": "markdown",
   "metadata": {},
   "source": [
    "# zi_MFLI class"
   ]
  },
  {
   "cell_type": "code",
   "execution_count": null,
   "metadata": {},
   "outputs": [],
   "source": [
    "class zi_MFLI:\n",
    "    \n",
    "    def __init__(self,\n",
    "                device_id,\n",
    "                interface = '1GbE',\n",
    "                server_host = 'localhost',\n",
    "                server_port = 8004,\n",
    "                api_level = 6,):\n",
    "\n",
    "\n",
    "        self.daq = zhinst.core.ziDAQServer(server_host, server_port, api_level)\n",
    "        self.instr.connectDevice(device_id, interface)\n",
    "        \n",
    "        self.demod_path = f'/{device_id}/demods/0/'\n",
    "        self.sample_path = self.demod_path+'sample'\n",
    "\n",
    "def get_XY(self):\n",
    "    daq.getSample(self.sample_path)\n",
    "    self.daq.getSample()\n",
    "\n",
    "def get_TC():\n",
    "    return\n",
    "def get_filter():\n",
    "    return\n",
    "def set_TC():\n",
    "    return\n",
    "def set_filter():\n",
    "    return "
   ]
  }
 ],
 "metadata": {
  "kernelspec": {
   "display_name": "base",
   "language": "python",
   "name": "python3"
  },
  "language_info": {
   "codemirror_mode": {
    "name": "ipython",
    "version": 3
   },
   "file_extension": ".py",
   "mimetype": "text/x-python",
   "name": "python",
   "nbconvert_exporter": "python",
   "pygments_lexer": "ipython3",
   "version": "3.10.10"
  },
  "orig_nbformat": 4
 },
 "nbformat": 4,
 "nbformat_minor": 2
}
