{
 "cells": [
  {
   "cell_type": "code",
   "execution_count": 5,
   "metadata": {},
   "outputs": [],
   "source": [
    "import numpy as np\n",
    "import time\n",
    "import zhinst.core\n",
    "%matplotlib widget\n",
    "import matplotlib.pyplot as plt"
   ]
  },
  {
   "cell_type": "code",
   "execution_count": 6,
   "metadata": {},
   "outputs": [],
   "source": [
    "device_id = \"dev4934\" # Device serial number available on its rear panel.\n",
    "interface = \"1GbE\" # For Ethernet connection or when MFLI/MFIA is connected to a remote Data Server.\n",
    "# interface = \"USB\" # For all instruments connected to the host computer via USB except MFLI/MFIA.\n",
    "#interface = \"PCIe\" # For MFLI/MFIA devices in case the Data Server runs on the device.\n",
    "\n",
    "# server_host = \"localhost\"\n",
    "server_host = '127.0.0.1'\n",
    "# server_host = \"192.168.77.26\"\n",
    "server_port = 8004\n",
    "\n",
    "#server_port = 8005 # Default port for HF2LI.\n",
    "api_level = 6 # Maximum API level supported for all instruments except HF2LI.\n",
    "#api_level = 1 # Maximum API level supported for HF2LI.\n",
    "\n",
    "# Create an API session to the Data Server.\n",
    "daq = zhinst.core.ziDAQServer(server_host, server_port, api_level)\n",
    "# Establish a connection between Data Server and Device.\n",
    "daq.connectDevice(device_id, interface)"
   ]
  },
  {
   "cell_type": "code",
   "execution_count": 7,
   "metadata": {},
   "outputs": [],
   "source": [
    "demod_path = f\"/{device_id}/demods/0/\"\n",
    "sample_path = demod_path+'sample'\n",
    "\n"
   ]
  },
  {
   "cell_type": "code",
   "execution_count": 8,
   "metadata": {},
   "outputs": [
    {
     "data": {
      "text/plain": [
       "'/dev4934/demods/0/sample.R'"
      ]
     },
     "execution_count": 8,
     "metadata": {},
     "output_type": "execute_result"
    }
   ],
   "source": [
    "'/dev4934/demods/0/sample.R'"
   ]
  },
  {
   "cell_type": "code",
   "execution_count": 9,
   "metadata": {},
   "outputs": [
    {
     "data": {
      "text/plain": [
       "{'timestamp': array([156641486411321], dtype=uint64),\n",
       " 'x': array([7.02317748e-06]),\n",
       " 'y': array([3.1626125e-07]),\n",
       " 'frequency': array([32764.49999994]),\n",
       " 'phase': array([6.15787825]),\n",
       " 'dio': array([0], dtype=uint32),\n",
       " 'trigger': array([0], dtype=uint32),\n",
       " 'auxin0': array([0.00230617]),\n",
       " 'auxin1': array([-0.00197045])}"
      ]
     },
     "execution_count": 9,
     "metadata": {},
     "output_type": "execute_result"
    }
   ],
   "source": [
    "daq.getSample(demod_path+'sample')\n"
   ]
  },
  {
   "cell_type": "code",
   "execution_count": 10,
   "metadata": {},
   "outputs": [
    {
     "data": {
      "text/plain": [
       "['/dev4934/demods/0/adcselect',\n",
       " '/dev4934/demods/0/order',\n",
       " '/dev4934/demods/0/rate',\n",
       " '/dev4934/demods/0/oscselect',\n",
       " '/dev4934/demods/0/harmonic',\n",
       " '/dev4934/demods/0/phaseshift',\n",
       " '/dev4934/demods/0/sinc',\n",
       " '/dev4934/demods/0/bypass',\n",
       " '/dev4934/demods/0/timeconstant',\n",
       " '/dev4934/demods/0/enable',\n",
       " '/dev4934/demods/0/freq',\n",
       " '/dev4934/demods/0/trigger',\n",
       " '/dev4934/demods/0/phaseadjust',\n",
       " '/dev4934/demods/0/sample']"
      ]
     },
     "metadata": {},
     "output_type": "display_data"
    },
    {
     "data": {
      "text/plain": [
       "{'timestamp': array([156641492360761], dtype=uint64),\n",
       " 'x': array([7.05499076e-06]),\n",
       " 'y': array([3.93196976e-07]),\n",
       " 'frequency': array([32764.49999994]),\n",
       " 'phase': array([5.15542181]),\n",
       " 'dio': array([0], dtype=uint32),\n",
       " 'trigger': array([0], dtype=uint32),\n",
       " 'auxin0': array([0.00197672]),\n",
       " 'auxin1': array([-0.00065682])}"
      ]
     },
     "metadata": {},
     "output_type": "display_data"
    }
   ],
   "source": [
    "display(daq.listNodes(demod_path))\n",
    "display(daq.getSample(sample_path))"
   ]
  },
  {
   "cell_type": "code",
   "execution_count": 11,
   "metadata": {},
   "outputs": [
    {
     "data": {
      "text/plain": [
       "{'timestamp': array([156641498381881], dtype=uint64),\n",
       " 'x': array([7.00691691e-06]),\n",
       " 'y': array([3.54935686e-07]),\n",
       " 'frequency': array([32764.49999994]),\n",
       " 'phase': array([5.04928951]),\n",
       " 'dio': array([0], dtype=uint32),\n",
       " 'trigger': array([0], dtype=uint32),\n",
       " 'auxin0': array([0.00296508]),\n",
       " 'auxin1': array([-0.00164204])}"
      ]
     },
     "execution_count": 11,
     "metadata": {},
     "output_type": "execute_result"
    }
   ],
   "source": [
    "daq.getSample('/dev4934/demods/0/sample')"
   ]
  },
  {
   "cell_type": "code",
   "execution_count": 27,
   "metadata": {},
   "outputs": [],
   "source": [
    "daq.setDouble(f'/{device_id}/sigouts/0/range',12E-3)"
   ]
  },
  {
   "cell_type": "code",
   "execution_count": 28,
   "metadata": {},
   "outputs": [
    {
     "data": {
      "text/plain": [
       "'3'"
      ]
     },
     "execution_count": 28,
     "metadata": {},
     "output_type": "execute_result"
    }
   ],
   "source": [
    "'{:}'.format(3)"
   ]
  },
  {
   "cell_type": "code",
   "execution_count": 12,
   "metadata": {},
   "outputs": [
    {
     "data": {
      "text/plain": [
       "1686521581.199947"
      ]
     },
     "execution_count": 12,
     "metadata": {},
     "output_type": "execute_result"
    }
   ],
   "source": [
    "import datetime as dt\n",
    "dt.datetime.utcnow().timestamp()"
   ]
  },
  {
   "attachments": {},
   "cell_type": "markdown",
   "metadata": {},
   "source": [
    "# zi_MFLI class"
   ]
  },
  {
   "cell_type": "code",
   "execution_count": 14,
   "metadata": {},
   "outputs": [],
   "source": [
    "from importlib import reload\n",
    "import zurich_MFLI as zur_driver\n",
    "reload(zur_driver)\n",
    "\n",
    "daq_obj = zur_driver.zi_MFLI(device_id, interface, server_host, server_port, api_level)"
   ]
  },
  {
   "cell_type": "code",
   "execution_count": 16,
   "metadata": {},
   "outputs": [
    {
     "data": {
      "text/plain": [
       "[array([7.05867046e-06]), array([2.38378174e-07])]"
      ]
     },
     "metadata": {},
     "output_type": "display_data"
    },
    {
     "data": {
      "text/plain": [
       "array([32764.49999994])"
      ]
     },
     "metadata": {},
     "output_type": "display_data"
    }
   ],
   "source": [
    "display(daq_obj.get_XY())\n",
    "display(daq_obj.get_freq())"
   ]
  },
  {
   "cell_type": "code",
   "execution_count": 21,
   "metadata": {},
   "outputs": [
    {
     "data": {
      "text/plain": [
       "array([32764.51000005])"
      ]
     },
     "execution_count": 21,
     "metadata": {},
     "output_type": "execute_result"
    }
   ],
   "source": [
    "daq_obj.set_freq(32764.51)\n",
    "daq_obj.get_freq()"
   ]
  },
  {
   "cell_type": "code",
   "execution_count": null,
   "metadata": {},
   "outputs": [],
   "source": []
  }
 ],
 "metadata": {
  "kernelspec": {
   "display_name": "base",
   "language": "python",
   "name": "python3"
  },
  "language_info": {
   "codemirror_mode": {
    "name": "ipython",
    "version": 3
   },
   "file_extension": ".py",
   "mimetype": "text/x-python",
   "name": "python",
   "nbconvert_exporter": "python",
   "pygments_lexer": "ipython3",
   "version": "3.9.7"
  },
  "orig_nbformat": 4,
  "vscode": {
   "interpreter": {
    "hash": "1e5f6b545c97dba262aa23307222c1a42ea70f3339e82614868073215e103e43"
   }
  }
 },
 "nbformat": 4,
 "nbformat_minor": 2
}
